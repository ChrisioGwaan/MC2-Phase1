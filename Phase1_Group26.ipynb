{
 "cells": [
  {
   "cell_type": "markdown",
   "source": [
    "# Predicting the Satisfaction Level of Airplane Passengers"
   ],
   "metadata": {}
  },
  {
   "cell_type": "markdown",
   "source": [
    "#### Group Name: \n",
    "* Group 26\n",
    "\n",
    "#### Name(s) & ID(s) of Group Members:\n",
    "* Lai Pak Yin (s3827212)\n",
    "* Weixi Guan (s3830776)\n",
    "#### "
   ],
   "metadata": {}
  },
  {
   "cell_type": "markdown",
   "source": [
    "***\n",
    "(Credit: A. C. & I. P.)\n",
    "\n",
    "**DISCLAIMER:** Please do not assume this report is 100% accurate nor it fully satisfies all the project requirements for full credit.\n",
    "***"
   ],
   "metadata": {}
  },
  {
   "cell_type": "markdown",
   "source": [
    "## Table of Contents\n",
    "* [Introduction](#Intro) \n",
    "  + [Dataset Source](#Source)\n",
    "  + [Dataset Details](#Details)\n",
    "  + [Dataset Variables](#Variables)\n",
    "  + [Response Variable](#Response)\n",
    "* [Goals & Objectives](#Goal)\n",
    "* [Data Cleaning & Preprocessing](#Cleaning_And_Preprocessing)\n",
    "* [Data Exploration and Visualisation](#Exploration_And_Visualisation)\n",
    "* [Literature Review](#Review)\n",
    "* [Summary and Conclusion](#Summary_And_Conclusion)\n",
    "* [References](#References)\n",
    "\n"
   ],
   "metadata": {}
  },
  {
   "cell_type": "markdown",
   "source": [
    "## Introduction <a id='Intro'></a>"
   ],
   "metadata": {}
  },
  {
   "cell_type": "markdown",
   "source": [
    "### Dataset Source <a id='Source'></a>"
   ],
   "metadata": {}
  },
  {
   "cell_type": "markdown",
   "source": [
    "The Airline Passenger Satisfaction dataset was sourced from Kaggle (Klein, 2019). This dataset contains an airline passenger satisfaction survey."
   ],
   "metadata": {}
  },
  {
   "cell_type": "markdown",
   "source": [
    "### Dataset Details <a id='Details'></a>"
   ],
   "metadata": {}
  },
  {
   "cell_type": "markdown",
   "source": [
    "This dataset is about the satisfaction level of an Airline company. It contains information about factors that will affect the satisfaction level of customers. For example, seat comfort, inflight entertainment and on-board service are some factors that are included in the dataset. Also, customer's general information such as gender, age and type of travel are recorded in the dataset for more in-depth research. These features are sufficient and capable for predictive modeling of the satisfaction level of customers as a regression problem.\n",
    "\n",
    "This dataset has 23 features and 129880 observations. All the data with no information has been removed from this dataset."
   ],
   "metadata": {}
  },
  {
   "cell_type": "markdown",
   "source": [
    "### Dataset Variables <a id='Variables'></a>"
   ],
   "metadata": {}
  },
  {
   "cell_type": "markdown",
   "source": [
    "All the features of the dataset are shown in the table below. "
   ],
   "metadata": {}
  },
  {
   "cell_type": "code",
   "execution_count": 37,
   "source": [
    "from tabulate import tabulate\r\n",
    "\r\n",
    "table = [['Name','Data Type','Units','Description'],\r\n",
    "         ['Gender','Nominal categorical','NA','Gender of the passengers (Female, Male)'],\r\n",
    "         ['Customer type','Nominal categorical','NA','The customer type (Loyal customer, disloyal customer)'],\r\n",
    "         ['Age','Numeric','Years Old','The actual age of the passengers'],\r\n",
    "         ['Type of travel','Nominal categorical','NA','Purpose of the flight of the passengers \\n(Personal Travel, Business Travel)'],\r\n",
    "         ['Customer class','Nominal categorical','NA','Travel class in the plane of the passengers \\n(Business, Eco, Eco Plus)'],\r\n",
    "         ['Flight distance','Numeric','KM','The flight distance of this journey'],\r\n",
    "         ['Inflight wifi service','Numeric','NA','Satisfaction level of the inflight wifi service \\n(0:Not Applicable;1-5)'],\r\n",
    "         ['Departure/Arrival time convenient','Numeric','NA','Satisfaction level of Departure/Arrival time convenient'],\r\n",
    "         ['Ease of online booking','Numeric','NA','Satisfaction level of online booking'],\r\n",
    "         ['Gate location','Numeric','NA','Satisfaction level of Gate location'],\r\n",
    "         ['Food and drink','Numeric','NA','Satisfaction level of Food and drink'],\r\n",
    "         ['Online boarding','Numeric','NA','Satisfaction level of online boarding'],\r\n",
    "         ['Seat comfort','Numeric','year','Satisfaction level of Seat comfort'],\r\n",
    "         ['Inflight entertainment','Numeric','NA','Satisfaction level of inflight entertainment'],\r\n",
    "         ['Onboard service','Numeric','NA','Satisfaction level of On-board service'],\r\n",
    "         ['Leg room service','Numeric','NA','Satisfaction level of Leg room service'],\r\n",
    "         ['Baggage handling','Numeric','NA','Satisfaction level of baggage handling'],\r\n",
    "         ['Check in service','Numeric','NA','Satisfaction level of Check-in service'],\r\n",
    "         ['Inflight service','Numeric','NA','Satisfaction level of inflight service'],\r\n",
    "         ['Cleanliness','Numeric','NA','Satisfaction level of Cleanliness'],\r\n",
    "         ['Departure delay in minutes','Numeric','NA','Minutes delayed when departure'],\r\n",
    "         ['Arrive delay in minutes','Numeric','NA','Minutes delayed when Arrival'],\r\n",
    "         ['Satisfaction','Nominal categorical','NA','Airline satisfaction level\\n(Satisfaction, neutral or dissatisfaction)']]\r\n",
    "\r\n",
    "print(tabulate(table, headers='firstrow', tablefmt='simple'))\r\n",
    "#test"
   ],
   "outputs": [
    {
     "output_type": "stream",
     "name": "stdout",
     "text": [
      "Name                               Data Type            Units      Description\n",
      "---------------------------------  -------------------  ---------  -------------------------------------------------------\n",
      "Gender                             Nominal categorical  NA         Gender of the passengers (Female, Male)\n",
      "Customer type                      Nominal categorical  NA         The customer type (Loyal customer, disloyal customer)\n",
      "Age                                Numeric              Years Old  The actual age of the passengers\n",
      "Type of travel                     Nominal categorical  NA         Purpose of the flight of the passengers\n",
      "                                                                   (Personal Travel, Business Travel)\n",
      "Customer class                     Nominal categorical  NA         Travel class in the plane of the passengers\n",
      "                                                                   (Business, Eco, Eco Plus)\n",
      "Flight distance                    Numeric              KM         The flight distance of this journey\n",
      "Inflight wifi service              Numeric              NA         Satisfaction level of the inflight wifi service\n",
      "                                                                   (0:Not Applicable;1-5)\n",
      "Departure/Arrival time convenient  Numeric              NA         Satisfaction level of Departure/Arrival time convenient\n",
      "Ease of online booking             Numeric              NA         Satisfaction level of online booking\n",
      "Gate location                      Numeric              NA         Satisfaction level of Gate location\n",
      "Food and drink                     Numeric              NA         Satisfaction level of Food and drink\n",
      "Online boarding                    Numeric              NA         Satisfaction level of online boarding\n",
      "Seat comfort                       Numeric              year       Satisfaction level of Seat comfort\n",
      "Inflight entertainment             Numeric              NA         Satisfaction level of inflight entertainment\n",
      "Onboard service                    Numeric              NA         Satisfaction level of On-board service\n",
      "Leg room service                   Numeric              NA         Satisfaction level of Leg room service\n",
      "Baggage handling                   Numeric              NA         Satisfaction level of baggage handling\n",
      "Check in service                   Numeric              NA         Satisfaction level of Check-in service\n",
      "Inflight service                   Numeric              NA         Satisfaction level of inflight service\n",
      "Cleanliness                        Numeric              NA         Satisfaction level of Cleanliness\n",
      "Departure delay in minutes         Numeric              NA         Minutes delayed when departure\n",
      "Arrive delay in minutes            Numeric              NA         Minutes delayed when Arrival\n",
      "Satisfaction                       Nominal categorical  NA         Airline satisfaction level\n",
      "                                                                   (Satisfaction, neutral or dissatisfaction)\n"
     ]
    }
   ],
   "metadata": {}
  },
  {
   "cell_type": "markdown",
   "source": [
    "### Response Variable <a id='Response'></a>"
   ],
   "metadata": {}
  },
  {
   "cell_type": "markdown",
   "source": [
    "For this project, the target feature in this dataset will be predicting passenger satisfaction. The satisfaction level will be predicted based on the explanatory / descriptive variables in the dataset."
   ],
   "metadata": {}
  },
  {
   "cell_type": "markdown",
   "source": [
    "## Goals & Objectives <a id='Goal'></a>"
   ],
   "metadata": {}
  },
  {
   "cell_type": "markdown",
   "source": [
    "## Data Cleaning & Preprocessing <a id='Cleaning_And_Preprocessing'></a>"
   ],
   "metadata": {}
  },
  {
   "cell_type": "markdown",
   "source": [
    "## Data Exploration and Visualisation <a id='Exploration_And_Visualisation'></a>"
   ],
   "metadata": {}
  },
  {
   "cell_type": "markdown",
   "source": [
    "## Literature Review <a id='Review'></a>"
   ],
   "metadata": {}
  },
  {
   "cell_type": "markdown",
   "source": [
    "## Summary and Conclusion <a id='Summary_And_Conclusion'></a>"
   ],
   "metadata": {}
  },
  {
   "cell_type": "markdown",
   "source": [
    "## References <a id='References'></a>"
   ],
   "metadata": {}
  }
 ],
 "metadata": {
  "kernelspec": {
   "display_name": "Python 3",
   "language": "python",
   "name": "python3"
  },
  "language_info": {
   "codemirror_mode": {
    "name": "ipython",
    "version": 3
   },
   "file_extension": ".py",
   "mimetype": "text/x-python",
   "name": "python",
   "nbconvert_exporter": "python",
   "pygments_lexer": "ipython3",
   "version": "3.8.8"
  }
 },
 "nbformat": 4,
 "nbformat_minor": 5
}