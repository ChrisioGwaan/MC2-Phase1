{
 "cells": [
  {
   "cell_type": "markdown",
   "id": "22b68cc8",
   "metadata": {},
   "source": [
    "# Title"
   ]
  },
  {
   "cell_type": "markdown",
   "id": "22376986",
   "metadata": {},
   "source": [
    "#### Group Name: \n",
    "Group 26\n",
    "\n",
    "#### Name(s) & ID(s) of Group Members:\n",
    "Lai Pak Yin(s3827212)\n",
    "#### "
   ]
  },
  {
   "cell_type": "markdown",
   "id": "522db150",
   "metadata": {},
   "source": [
    "***\n",
    "(Credit: A. C. & I. P.)\n",
    "\n",
    "**DISCLAIMER:** Please do not assume this report is 100% accurate nor it fully satisfies all the project requirements for full credit.\n",
    "***"
   ]
  },
  {
   "cell_type": "markdown",
   "id": "b4bccbe6",
   "metadata": {},
   "source": [
    "## Table of Contents\n",
    "* [Introduction](#Intro) \n",
    "  + [Dataset Source](#Source)\n",
    "  + [Dataset Details](#Details)\n",
    "  + [Dataset Variables](#Variables)\n",
    "  + [Response Variable](#Response)\n",
    "* [Goals & Objectives](#Goal)\n",
    "* [Data Cleaning & Preprocessing](#Cleaning_And_Preprocessing)\n",
    "* [Data Exploration and Visualisation](#Exploration_And_Visualisation)\n",
    "* [Literature Review](#Review)\n",
    "* [Summary and Conclusion](#Summary_And_Conclusion)\n",
    "* [References](#References)\n",
    "\n"
   ]
  },
  {
   "cell_type": "markdown",
   "id": "c4c0e26a",
   "metadata": {},
   "source": [
    "## Introduction <a id='Intro'></a>"
   ]
  },
  {
   "cell_type": "markdown",
   "id": "c0599316",
   "metadata": {},
   "source": [
    "### Dataset Source <a id='Source'></a>"
   ]
  },
  {
   "cell_type": "markdown",
   "id": "3f0af400",
   "metadata": {},
   "source": [
    "The Airline Passenger Satisfaction dataset was sourced from Kaggle (Klein, 2019). This dataset contains an airline passenger satisfaction survey."
   ]
  },
  {
   "cell_type": "markdown",
   "id": "8ace2a2f",
   "metadata": {},
   "source": [
    "### Dataset Details <a id='Details'></a>"
   ]
  },
  {
   "cell_type": "markdown",
   "id": "4ac97830",
   "metadata": {},
   "source": [
    "This dataset is about the satisfaction level for the Airline. It contains information for different factors that will affect customer's satisfaction level such as Departure/Arrival time convenient"
   ]
  },
  {
   "cell_type": "markdown",
   "id": "dbd8b0a4",
   "metadata": {},
   "source": [
    "### Dataset Variables <a id='Variables'></a>"
   ]
  },
  {
   "cell_type": "markdown",
   "id": "6847b762",
   "metadata": {},
   "source": [
    "### Response Variable <a id='Response'></a>"
   ]
  },
  {
   "cell_type": "markdown",
   "id": "2671cf67",
   "metadata": {},
   "source": [
    "## Goals & Objectives <a id='Goal'></a>"
   ]
  },
  {
   "cell_type": "markdown",
   "id": "c8572b8b",
   "metadata": {},
   "source": [
    "## Data Cleaning & Preprocessing <a id='Cleaning_And_Preprocessing'></a>"
   ]
  },
  {
   "cell_type": "markdown",
   "id": "4ad351b2",
   "metadata": {},
   "source": [
    "## Data Exploration and Visualisation <a id='Exploration_And_Visualisation'></a>"
   ]
  },
  {
   "cell_type": "markdown",
   "id": "f13be5d3",
   "metadata": {},
   "source": [
    "## Literature Review <a id='Review'></a>"
   ]
  },
  {
   "cell_type": "markdown",
   "id": "f5a80998",
   "metadata": {},
   "source": [
    "## Summary and Conclusion <a id='Summary_And_Conclusion'></a>"
   ]
  },
  {
   "cell_type": "markdown",
   "id": "f0edb108",
   "metadata": {},
   "source": [
    "## References <a id='References'></a>"
   ]
  }
 ],
 "metadata": {
  "kernelspec": {
   "display_name": "Python 3",
   "language": "python",
   "name": "python3"
  },
  "language_info": {
   "codemirror_mode": {
    "name": "ipython",
    "version": 3
   },
   "file_extension": ".py",
   "mimetype": "text/x-python",
   "name": "python",
   "nbconvert_exporter": "python",
   "pygments_lexer": "ipython3",
   "version": "3.8.8"
  }
 },
 "nbformat": 4,
 "nbformat_minor": 5
}
